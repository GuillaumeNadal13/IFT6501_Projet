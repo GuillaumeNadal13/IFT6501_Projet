{
 "cells": [
  {
   "cell_type": "markdown",
   "source": [
    "## List to do"
   ],
   "metadata": {
    "collapsed": false
   },
   "id": "e421fee203e985cc"
  },
  {
   "cell_type": "markdown",
   "source": [
    "- review deep learning module (4) + vids to help understand (DONE)\n",
    "- research speach to text and text to speech online (in-progress)\n",
    "- start writing info into draft doc -summary \n",
    "- start writing the summary\n",
    "- test the codes with given examples \n",
    "- test the codes with new examples "
   ],
   "metadata": {
    "collapsed": false
   },
   "id": "b22818d6d5a75c9e"
  },
  {
   "cell_type": "code",
   "execution_count": null,
   "outputs": [],
   "source": [],
   "metadata": {
    "collapsed": false
   },
   "id": "e5e74cd347683140"
  }
 ],
 "metadata": {
  "kernelspec": {
   "display_name": "Python 3",
   "language": "python",
   "name": "python3"
  },
  "language_info": {
   "codemirror_mode": {
    "name": "ipython",
    "version": 2
   },
   "file_extension": ".py",
   "mimetype": "text/x-python",
   "name": "python",
   "nbconvert_exporter": "python",
   "pygments_lexer": "ipython2",
   "version": "2.7.6"
  }
 },
 "nbformat": 4,
 "nbformat_minor": 5
}
