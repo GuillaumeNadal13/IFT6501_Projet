{
 "cells": [
  {
   "cell_type": "markdown",
   "source": [
    "# Text to Speech"
   ],
   "metadata": {
    "collapsed": false
   },
   "id": "a6514af793a72e5f"
  },
  {
   "cell_type": "markdown",
   "source": [
    "## Packages à importer"
   ],
   "metadata": {
    "collapsed": false
   },
   "id": "a32d8c60d90dedbd"
  },
  {
   "cell_type": "code",
   "execution_count": 2,
   "outputs": [],
   "source": [
    "import os\n",
    "from gtts import gTTS\n",
    "import pyttsx3\n",
    "from azure.cognitiveservices.speech import SpeechConfig, SpeechSynthesizer, ResultReason"
   ],
   "metadata": {
    "collapsed": true,
    "ExecuteTime": {
     "end_time": "2023-12-11T00:28:25.504175200Z",
     "start_time": "2023-12-11T00:28:25.238154800Z"
    }
   },
   "id": "initial_id"
  },
  {
   "cell_type": "markdown",
   "source": [
    "## gTTS - Google Text-to-Speech API "
   ],
   "metadata": {
    "collapsed": false
   },
   "id": "dc30650b70e27140"
  },
  {
   "cell_type": "markdown",
   "source": [
    "Pour installer : pip install gTTS "
   ],
   "metadata": {
    "collapsed": false
   },
   "id": "857ce579a5420f56"
  },
  {
   "cell_type": "code",
   "execution_count": 4,
   "outputs": [
    {
     "data": {
      "text/plain": "0"
     },
     "execution_count": 4,
     "metadata": {},
     "output_type": "execute_result"
    }
   ],
   "source": [
    "text = \"Hi, this is a basic example of Text-to-Speech conversion using gTTS. They say that dogs are man's best friend, but this cat was setting out to sabotage that theory.\"\n",
    "\n",
    "output_file = \"gTTS.wav\"\n",
    "# option pour changer la langue : fr pour français, en pour l'anglais\n",
    "tts = gTTS(text, lang='en')\n",
    "# enregistre l'audio est le sauve en fichier\n",
    "tts.save(output_file)\n",
    "os.system(f\"start {output_file}\")"
   ],
   "metadata": {
    "collapsed": false,
    "ExecuteTime": {
     "end_time": "2023-12-11T00:28:53.304519800Z",
     "start_time": "2023-12-11T00:28:51.205155Z"
    }
   },
   "id": "7899d558bb344a0d"
  },
  {
   "cell_type": "markdown",
   "source": [
    "## pyttsx3 - Package Python"
   ],
   "metadata": {
    "collapsed": false
   },
   "id": "c5a00acb67d4090a"
  },
  {
   "cell_type": "markdown",
   "source": [
    "Pour installer : pip install pyttsx3"
   ],
   "metadata": {
    "collapsed": false
   },
   "id": "f2b60f1fd4ff8f28"
  },
  {
   "cell_type": "code",
   "execution_count": 5,
   "outputs": [],
   "source": [
    "engine = pyttsx3.init()\n",
    "\n",
    "# Définir les paramètres \n",
    "engine.setProperty('rate', 165)  # Vitesse de parole\n",
    "engine.setProperty('volume', 0.4)  # Volume entre 0.0 et 1.0\n",
    "\n",
    "# Le texte à input\n",
    "text = \"Hi this is an example on how to use pyttsx3.  \"\n",
    "\n",
    "# synthèse en audio\n",
    "engine.say(text)\n",
    "\n",
    "# la sortie - voix\n",
    "engine.runAndWait()"
   ],
   "metadata": {
    "collapsed": false,
    "ExecuteTime": {
     "end_time": "2023-12-08T20:52:21.141259900Z",
     "start_time": "2023-12-08T20:52:15.750294300Z"
    }
   },
   "id": "8bf8882d89193f2e"
  },
  {
   "cell_type": "markdown",
   "source": [
    "## Microsoft Azure "
   ],
   "metadata": {
    "collapsed": false
   },
   "id": "bef4967abd0a8287"
  },
  {
   "cell_type": "markdown",
   "source": [
    "Nécessite un compte pour obtenir un subscription key \n",
    "Il faut également télécharger Visual Studios"
   ],
   "metadata": {
    "collapsed": false
   },
   "id": "7fb523a6bfaf6668"
  },
  {
   "cell_type": "code",
   "execution_count": 7,
   "outputs": [],
   "source": [
    "#microsoft Azure\n",
    "\n",
    "def text_to_speech_azure(text):\n",
    "\n",
    "    subscription_key = '21f1004d6b7545058d1da8cd6e6d5bfd'\n",
    "    region = 'eastus'\n",
    "    \n",
    "    speech_config = SpeechConfig(subscription=subscription_key, region=region)\n",
    "    speech_config.speech_synthesis_voice_name='ja-JP-NanamiNeural'\n",
    "    \n",
    "    # Différente voix: \n",
    "    #en-AU-FreyaNeural, en-AU-NatashaNeural, en-AU-CarlyNeural, en-IN-PrabhatNeural fr-FR-CoralieNeural, ja-JP-NanamiNeural\n",
    "    # Créer un SpeechSynthesizer\n",
    "    synthesizer = SpeechSynthesizer(speech_config=speech_config)\n",
    "\n",
    "    # Synthèse du texte\n",
    "    result = synthesizer.speak_text_async(text).get()\n",
    "\n",
    "    # Sauvegarde l'audio a un fichier\n",
    "    if result.reason == ResultReason.SynthesizingAudioCompleted:\n",
    "        audio_data = result.audio_data\n",
    "        with open(\"Azure-jp.wav\", \"wb\") as audio_file:\n",
    "            audio_file.write(audio_data)\n",
    "\n",
    "# Texte \n",
    "text_to_speech_azure(\"Hi my name is Chloe. My favorite food are dumplings. This is an example of text to speech using microsoft azure.\")\n",
    "# text_to_speech_azure(\"Ceci est un exemple de conversion text to speech utilisant microsoft azure.\")\n"
   ],
   "metadata": {
    "collapsed": false,
    "ExecuteTime": {
     "end_time": "2023-12-11T01:35:55.033574Z",
     "start_time": "2023-12-11T01:35:41.768106400Z"
    }
   },
   "id": "d167d7c9eb22dba8"
  },
  {
   "cell_type": "code",
   "execution_count": null,
   "outputs": [],
   "source": [],
   "metadata": {
    "collapsed": false
   },
   "id": "ec9b8fc78658d4eb"
  }
 ],
 "metadata": {
  "kernelspec": {
   "display_name": "Python 3",
   "language": "python",
   "name": "python3"
  },
  "language_info": {
   "codemirror_mode": {
    "name": "ipython",
    "version": 2
   },
   "file_extension": ".py",
   "mimetype": "text/x-python",
   "name": "python",
   "nbconvert_exporter": "python",
   "pygments_lexer": "ipython2",
   "version": "2.7.6"
  }
 },
 "nbformat": 4,
 "nbformat_minor": 5
}
