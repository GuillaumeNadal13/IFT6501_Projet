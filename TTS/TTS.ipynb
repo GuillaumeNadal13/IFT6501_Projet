{
 "cells": [
  {
   "cell_type": "markdown",
   "source": [
    "# Text to Speech"
   ],
   "metadata": {
    "collapsed": false
   },
   "id": "a6514af793a72e5f"
  },
  {
   "cell_type": "markdown",
   "source": [
    "## Packages à importer"
   ],
   "metadata": {
    "collapsed": false
   },
   "id": "a32d8c60d90dedbd"
  },
  {
   "cell_type": "code",
   "execution_count": 2,
   "outputs": [],
   "source": [
    "import os\n",
    "from gtts import gTTS\n",
    "import pyttsx3\n",
    "from azure.cognitiveservices.speech import SpeechConfig, SpeechSynthesizer, ResultReason"
   ],
   "metadata": {
    "collapsed": true,
    "ExecuteTime": {
     "end_time": "2023-12-11T00:28:25.504175200Z",
     "start_time": "2023-12-11T00:28:25.238154800Z"
    }
   },
   "id": "initial_id"
  },
  {
   "cell_type": "markdown",
   "source": [
    "## gTTS - Google Text-to-Speech API "
   ],
   "metadata": {
    "collapsed": false
   },
   "id": "dc30650b70e27140"
  },
  {
   "cell_type": "markdown",
   "source": [
    "Pour installer : pip install gTTS "
   ],
   "metadata": {
    "collapsed": false
   },
   "id": "857ce579a5420f56"
  },
  {
   "cell_type": "code",
   "execution_count": 4,
   "outputs": [
    {
     "data": {
      "text/plain": "0"
     },
     "execution_count": 4,
     "metadata": {},
     "output_type": "execute_result"
    }
   ],
   "source": [
    "text = \"Hi, this is a basic example of Text-to-Speech conversion using gTTS. They say that dogs are man's best friend, but this cat was setting out to sabotage that theory.\"\n",
    "\n",
    "output_file = \"gTTS.wav\"\n",
    "# option pour changer la langue : fr pour français, en pour l'anglais\n",
    "tts = gTTS(text, lang='en')\n",
    "# enregistre l'audio est le sauve en fichier\n",
    "tts.save(output_file)\n",
    "os.system(f\"start {output_file}\")"
   ],
   "metadata": {
    "collapsed": false,
    "ExecuteTime": {
     "end_time": "2023-12-11T00:28:53.304519800Z",
     "start_time": "2023-12-11T00:28:51.205155Z"
    }
   },
   "id": "7899d558bb344a0d"
  },
  {
   "cell_type": "markdown",
   "source": [
    "## pyttsx3 - Package Python"
   ],
   "metadata": {
    "collapsed": false
   },
   "id": "c5a00acb67d4090a"
  },
  {
   "cell_type": "markdown",
   "source": [
    "Pour installer : pip install pyttsx3"
   ],
   "metadata": {
    "collapsed": false
   },
   "id": "f2b60f1fd4ff8f28"
  },
  {
   "cell_type": "code",
   "execution_count": 5,
   "outputs": [],
   "source": [
    "engine = pyttsx3.init()\n",
    "\n",
    "# Définir les paramètres \n",
    "engine.setProperty('rate', 165)  # Vitesse de parole\n",
    "engine.setProperty('volume', 0.4)  # Volume entre 0.0 et 1.0\n",
    "\n",
    "# Le texte à input\n",
    "text = \"Hi this is an example on how to use pyttsx3.  \"\n",
    "\n",
    "# synthèse en audio\n",
    "engine.say(text)\n",
    "\n",
    "# la sortie - voix\n",
    "engine.runAndWait()"
   ],
   "metadata": {
    "collapsed": false,
    "ExecuteTime": {
     "end_time": "2023-12-08T20:52:21.141259900Z",
     "start_time": "2023-12-08T20:52:15.750294300Z"
    }
   },
   "id": "8bf8882d89193f2e"
  },
  {
   "cell_type": "markdown",
   "source": [
    "## Microsoft Azure "
   ],
   "metadata": {
    "collapsed": false
   },
   "id": "bef4967abd0a8287"
  },
  {
   "cell_type": "markdown",
   "source": [
    "Nécessite un compte pour obtenir un subscription key \n",
    "Il faut également télécharger Visual Studios"
   ],
   "metadata": {
    "collapsed": false
   },
   "id": "7fb523a6bfaf6668"
  },
  {
   "cell_type": "code",
   "execution_count": 10,
   "outputs": [
    {
     "ename": "RuntimeError",
     "evalue": "5",
     "output_type": "error",
     "traceback": [
      "\u001B[1;31m---------------------------------------------------------------------------\u001B[0m",
      "\u001B[1;31mRuntimeError\u001B[0m                              Traceback (most recent call last)",
      "Cell \u001B[1;32mIn[10], line 26\u001B[0m\n\u001B[0;32m     23\u001B[0m             audio_file\u001B[38;5;241m.\u001B[39mwrite(audio_data)\n\u001B[0;32m     25\u001B[0m \u001B[38;5;66;03m# Example usage\u001B[39;00m\n\u001B[1;32m---> 26\u001B[0m text_to_speech_azure(\u001B[38;5;124m\"\u001B[39m\u001B[38;5;124mHi my name is Chloe. My favorite food are mochis. I love playing video games, like CS-go 2, valorant and subnautica\u001B[39m\u001B[38;5;124m\"\u001B[39m)\n\u001B[0;32m     27\u001B[0m text_to_speech_azure(\u001B[38;5;124m\"\u001B[39m\u001B[38;5;124mJ\u001B[39m\u001B[38;5;124m'\u001B[39m\u001B[38;5;124maime beaucoup les pommes\u001B[39m\u001B[38;5;124m\"\u001B[39m)\n",
      "Cell \u001B[1;32mIn[10], line 8\u001B[0m, in \u001B[0;36mtext_to_speech_azure\u001B[1;34m(text)\u001B[0m\n\u001B[0;32m      5\u001B[0m subscription_key \u001B[38;5;241m=\u001B[39m \u001B[38;5;124m'\u001B[39m\u001B[38;5;124m'\u001B[39m\n\u001B[0;32m      6\u001B[0m region \u001B[38;5;241m=\u001B[39m \u001B[38;5;124m'\u001B[39m\u001B[38;5;124m'\u001B[39m\n\u001B[1;32m----> 8\u001B[0m speech_config \u001B[38;5;241m=\u001B[39m SpeechConfig(subscription\u001B[38;5;241m=\u001B[39msubscription_key, region\u001B[38;5;241m=\u001B[39mregion)\n\u001B[0;32m      9\u001B[0m speech_config\u001B[38;5;241m.\u001B[39mspeech_synthesis_voice_name\u001B[38;5;241m=\u001B[39m\u001B[38;5;124m'\u001B[39m\u001B[38;5;124mfr-FR-CoralieNeural\u001B[39m\u001B[38;5;124m'\u001B[39m\n\u001B[0;32m     11\u001B[0m \u001B[38;5;66;03m#fav voices : \u001B[39;00m\n\u001B[0;32m     12\u001B[0m \u001B[38;5;66;03m#en-AU-FreyaNeural, en-AU-NatashaNeural, en-AU-CarlyNeural, en-IN-PrabhatNeural, fr-FR-CoralieNeural, ja-JP-NanamiNeural\u001B[39;00m\n\u001B[0;32m     13\u001B[0m \u001B[38;5;66;03m# Create a SpeechSynthesizer\u001B[39;00m\n",
      "File \u001B[1;32m~\\anaconda3\\envs\\IFT\\Lib\\site-packages\\azure\\cognitiveservices\\speech\\speech.py:71\u001B[0m, in \u001B[0;36mSpeechConfig.__init__\u001B[1;34m(self, subscription, region, endpoint, host, auth_token, speech_recognition_language)\u001B[0m\n\u001B[0;32m     69\u001B[0m     \u001B[38;5;28;01mif\u001B[39;00m endpoint \u001B[38;5;129;01mis\u001B[39;00m \u001B[38;5;129;01mnot\u001B[39;00m \u001B[38;5;28;01mNone\u001B[39;00m \u001B[38;5;129;01mor\u001B[39;00m host \u001B[38;5;129;01mis\u001B[39;00m \u001B[38;5;129;01mnot\u001B[39;00m \u001B[38;5;28;01mNone\u001B[39;00m \u001B[38;5;129;01mor\u001B[39;00m auth_token \u001B[38;5;129;01mis\u001B[39;00m \u001B[38;5;129;01mnot\u001B[39;00m \u001B[38;5;28;01mNone\u001B[39;00m:\n\u001B[0;32m     70\u001B[0m         \u001B[38;5;28;01mraise\u001B[39;00m \u001B[38;5;167;01mValueError\u001B[39;00m(generic_error_message)\n\u001B[1;32m---> 71\u001B[0m     _call_hr_fn(fn\u001B[38;5;241m=\u001B[39m_sdk_lib\u001B[38;5;241m.\u001B[39mspeech_config_from_subscription, \u001B[38;5;241m*\u001B[39m[ctypes\u001B[38;5;241m.\u001B[39mbyref(handle), c_subscription, c_region])\n\u001B[0;32m     72\u001B[0m \u001B[38;5;28;01melif\u001B[39;00m region \u001B[38;5;129;01mis\u001B[39;00m \u001B[38;5;129;01mnot\u001B[39;00m \u001B[38;5;28;01mNone\u001B[39;00m \u001B[38;5;129;01mand\u001B[39;00m auth_token \u001B[38;5;129;01mis\u001B[39;00m \u001B[38;5;129;01mnot\u001B[39;00m \u001B[38;5;28;01mNone\u001B[39;00m:\n\u001B[0;32m     73\u001B[0m     \u001B[38;5;28;01mif\u001B[39;00m endpoint \u001B[38;5;129;01mis\u001B[39;00m \u001B[38;5;129;01mnot\u001B[39;00m \u001B[38;5;28;01mNone\u001B[39;00m \u001B[38;5;129;01mor\u001B[39;00m host \u001B[38;5;129;01mis\u001B[39;00m \u001B[38;5;129;01mnot\u001B[39;00m \u001B[38;5;28;01mNone\u001B[39;00m \u001B[38;5;129;01mor\u001B[39;00m subscription \u001B[38;5;129;01mis\u001B[39;00m \u001B[38;5;129;01mnot\u001B[39;00m \u001B[38;5;28;01mNone\u001B[39;00m:\n",
      "File \u001B[1;32m~\\anaconda3\\envs\\IFT\\Lib\\site-packages\\azure\\cognitiveservices\\speech\\interop.py:62\u001B[0m, in \u001B[0;36m_call_hr_fn\u001B[1;34m(fn, *args)\u001B[0m\n\u001B[0;32m     60\u001B[0m fn\u001B[38;5;241m.\u001B[39mrestype \u001B[38;5;241m=\u001B[39m _spx_hr\n\u001B[0;32m     61\u001B[0m hr \u001B[38;5;241m=\u001B[39m fn(\u001B[38;5;241m*\u001B[39margs) \u001B[38;5;28;01mif\u001B[39;00m \u001B[38;5;28mlen\u001B[39m(args) \u001B[38;5;241m>\u001B[39m \u001B[38;5;241m0\u001B[39m \u001B[38;5;28;01melse\u001B[39;00m fn()\n\u001B[1;32m---> 62\u001B[0m _raise_if_failed(hr)\n",
      "File \u001B[1;32m~\\anaconda3\\envs\\IFT\\Lib\\site-packages\\azure\\cognitiveservices\\speech\\interop.py:56\u001B[0m, in \u001B[0;36m_raise_if_failed\u001B[1;34m(hr)\u001B[0m\n\u001B[0;32m     54\u001B[0m \u001B[38;5;28;01mif\u001B[39;00m hr \u001B[38;5;241m!=\u001B[39m \u001B[38;5;241m0\u001B[39m:\n\u001B[0;32m     55\u001B[0m     __try_get_error(_spx_handle(hr))\n\u001B[1;32m---> 56\u001B[0m     \u001B[38;5;28;01mraise\u001B[39;00m \u001B[38;5;167;01mRuntimeError\u001B[39;00m(hr)\n",
      "\u001B[1;31mRuntimeError\u001B[0m: 5"
     ]
    }
   ],
   "source": [
    "#microsoft Azure\n",
    "\n",
    "def text_to_speech_azure(text):\n",
    "\n",
    "    subscription_key = 'INSERT KEY'\n",
    "    region = 'INSERT REGION'\n",
    "    \n",
    "    speech_config = SpeechConfig(subscription=subscription_key, region=region)\n",
    "    speech_config.speech_synthesis_voice_name='fr-FR-CoralieNeural'\n",
    "    \n",
    "    # Différente voix: \n",
    "    #en-AU-FreyaNeural, en-AU-NatashaNeural, en-AU-CarlyNeural, en-IN-PrabhatNeural fr-FR-CoralieNeural, ja-JP-NanamiNeural\n",
    "    # Créer un SpeechSynthesizer\n",
    "    synthesizer = SpeechSynthesizer(speech_config=speech_config)\n",
    "\n",
    "    # Synthèse du texte\n",
    "    result = synthesizer.speak_text_async(text).get()\n",
    "\n",
    "    # Sauvegarde l'audio a un fichier\n",
    "    if result.reason == ResultReason.SynthesizingAudioCompleted:\n",
    "        audio_data = result.audio_data\n",
    "        with open(\"Azure.wav\", \"wb\") as audio_file:\n",
    "            audio_file.write(audio_data)\n",
    "\n",
    "# Texte \n",
    "text_to_speech_azure(\"Hi my name is Chloe. My favorite food are dumplings. This is an example of text to speech using microsoft azure.\")\n",
    "text_to_speech_azure(\"Ceci est un exemple de conversion text to speech utilisant microsoft azure.\")\n"
   ],
   "metadata": {
    "collapsed": false,
    "ExecuteTime": {
     "end_time": "2023-12-08T20:56:25.449485Z",
     "start_time": "2023-12-08T20:56:25.407868100Z"
    }
   },
   "id": "d167d7c9eb22dba8"
  }
 ],
 "metadata": {
  "kernelspec": {
   "display_name": "Python 3",
   "language": "python",
   "name": "python3"
  },
  "language_info": {
   "codemirror_mode": {
    "name": "ipython",
    "version": 2
   },
   "file_extension": ".py",
   "mimetype": "text/x-python",
   "name": "python",
   "nbconvert_exporter": "python",
   "pygments_lexer": "ipython2",
   "version": "2.7.6"
  }
 },
 "nbformat": 4,
 "nbformat_minor": 5
}
