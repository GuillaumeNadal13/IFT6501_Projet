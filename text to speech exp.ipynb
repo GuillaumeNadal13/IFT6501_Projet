{
 "cells": [
  {
   "cell_type": "code",
   "execution_count": 2,
   "id": "initial_id",
   "metadata": {
    "collapsed": true,
    "ExecuteTime": {
     "end_time": "2023-12-06T21:02:39.403968800Z",
     "start_time": "2023-12-06T21:02:39.286988Z"
    }
   },
   "outputs": [],
   "source": []
  },
  {
   "cell_type": "code",
   "execution_count": 7,
   "outputs": [
    {
     "data": {
      "text/plain": "0"
     },
     "execution_count": 7,
     "metadata": {},
     "output_type": "execute_result"
    }
   ],
   "source": [
    "# using the gTTs python library\n",
    "import os\n",
    "from gtts import gTTS\n",
    "\n",
    "text = \"Hello, this is a basic example of Text-to-Speech conversion using gTTS.\"\n",
    "\n",
    "# Output file\n",
    "output_file = \"output.wav\"\n",
    "\n",
    "# Create a gTTS object\n",
    "tts = gTTS(text, lang='en')\n",
    "\n",
    "# Save the generated speech to a file\n",
    "tts.save(output_file)\n",
    "\n",
    "# Play the generated speech\n",
    "os.system(f\"start {output_file}\")\n",
    "\n",
    "#code fonctionne"
   ],
   "metadata": {
    "collapsed": false,
    "ExecuteTime": {
     "end_time": "2023-12-06T21:20:12.486976600Z",
     "start_time": "2023-12-06T21:20:11.219551200Z"
    }
   },
   "id": "dd4e50af1b07187d"
  },
  {
   "cell_type": "code",
   "execution_count": 5,
   "outputs": [],
   "source": [
    "# using the pyttsx3 library \n",
    "\n",
    "import pyttsx3\n",
    "\n",
    "# Create a TTS engine\n",
    "engine = pyttsx3.init()\n",
    "\n",
    "# Set properties (optional)\n",
    "engine.setProperty('rate', 150)  # Speed of speech\n",
    "engine.setProperty('volume', 0.9)  # Volume level (0.0 to 1.0)\n",
    "\n",
    "# Input text\n",
    "text = \"Hello, this is a basic example of text-to-speech using pyttsx.\"\n",
    "\n",
    "# Step 1-7: Text Analysis, Preprocessing, Linguistic Processing, Prosody, Intonation,\n",
    "# Phonetic Transcription, Acoustic Modeling, and Waveform Generation are handled internally by pyttsx.\n",
    "\n",
    "# Step 8: Synthesis\n",
    "engine.say(text)\n",
    "\n",
    "# Step 9: Voice and Speaker Adaptation - Limited customization with pyttsx.\n",
    "\n",
    "# Step 10: Output\n",
    "engine.runAndWait()\n",
    "\n",
    "#code works "
   ],
   "metadata": {
    "collapsed": false,
    "ExecuteTime": {
     "end_time": "2023-12-06T21:10:27.720557200Z",
     "start_time": "2023-12-06T21:10:20.318169100Z"
    }
   },
   "id": "f6031f88e9038c9a"
  },
  {
   "cell_type": "code",
   "execution_count": 10,
   "outputs": [
    {
     "ename": "Error",
     "evalue": "file does not start with RIFF id",
     "output_type": "error",
     "traceback": [
      "\u001B[1;31m---------------------------------------------------------------------------\u001B[0m",
      "\u001B[1;31mError\u001B[0m                                     Traceback (most recent call last)",
      "Cell \u001B[1;32mIn[10], line 5\u001B[0m\n\u001B[0;32m      2\u001B[0m \u001B[38;5;28;01mimport\u001B[39;00m \u001B[38;5;21;01mcsv\u001B[39;00m\n\u001B[0;32m      3\u001B[0m \u001B[38;5;28;01mimport\u001B[39;00m \u001B[38;5;21;01mos\u001B[39;00m\n\u001B[1;32m----> 5\u001B[0m origAudio \u001B[38;5;241m=\u001B[39m wave\u001B[38;5;241m.\u001B[39mopen(\u001B[38;5;124m'\u001B[39m\u001B[38;5;124moutput.wav\u001B[39m\u001B[38;5;124m'\u001B[39m, \u001B[38;5;124m'\u001B[39m\u001B[38;5;124mrb\u001B[39m\u001B[38;5;124m'\u001B[39m)  \u001B[38;5;66;03m# Change path\u001B[39;00m\n\u001B[0;32m      6\u001B[0m frameRate \u001B[38;5;241m=\u001B[39m origAudio\u001B[38;5;241m.\u001B[39mgetframerate()\n\u001B[0;32m      7\u001B[0m nChannels \u001B[38;5;241m=\u001B[39m origAudio\u001B[38;5;241m.\u001B[39mgetnchannels()\n",
      "File \u001B[1;32m~\\anaconda3\\envs\\IFT6501\\Lib\\wave.py:631\u001B[0m, in \u001B[0;36mopen\u001B[1;34m(f, mode)\u001B[0m\n\u001B[0;32m    629\u001B[0m         mode \u001B[38;5;241m=\u001B[39m \u001B[38;5;124m'\u001B[39m\u001B[38;5;124mrb\u001B[39m\u001B[38;5;124m'\u001B[39m\n\u001B[0;32m    630\u001B[0m \u001B[38;5;28;01mif\u001B[39;00m mode \u001B[38;5;129;01min\u001B[39;00m (\u001B[38;5;124m'\u001B[39m\u001B[38;5;124mr\u001B[39m\u001B[38;5;124m'\u001B[39m, \u001B[38;5;124m'\u001B[39m\u001B[38;5;124mrb\u001B[39m\u001B[38;5;124m'\u001B[39m):\n\u001B[1;32m--> 631\u001B[0m     \u001B[38;5;28;01mreturn\u001B[39;00m Wave_read(f)\n\u001B[0;32m    632\u001B[0m \u001B[38;5;28;01melif\u001B[39;00m mode \u001B[38;5;129;01min\u001B[39;00m (\u001B[38;5;124m'\u001B[39m\u001B[38;5;124mw\u001B[39m\u001B[38;5;124m'\u001B[39m, \u001B[38;5;124m'\u001B[39m\u001B[38;5;124mwb\u001B[39m\u001B[38;5;124m'\u001B[39m):\n\u001B[0;32m    633\u001B[0m     \u001B[38;5;28;01mreturn\u001B[39;00m Wave_write(f)\n",
      "File \u001B[1;32m~\\anaconda3\\envs\\IFT6501\\Lib\\wave.py:283\u001B[0m, in \u001B[0;36mWave_read.__init__\u001B[1;34m(self, f)\u001B[0m\n\u001B[0;32m    281\u001B[0m \u001B[38;5;66;03m# else, assume it is an open file object already\u001B[39;00m\n\u001B[0;32m    282\u001B[0m \u001B[38;5;28;01mtry\u001B[39;00m:\n\u001B[1;32m--> 283\u001B[0m     \u001B[38;5;28mself\u001B[39m\u001B[38;5;241m.\u001B[39minitfp(f)\n\u001B[0;32m    284\u001B[0m \u001B[38;5;28;01mexcept\u001B[39;00m:\n\u001B[0;32m    285\u001B[0m     \u001B[38;5;28;01mif\u001B[39;00m \u001B[38;5;28mself\u001B[39m\u001B[38;5;241m.\u001B[39m_i_opened_the_file:\n",
      "File \u001B[1;32m~\\anaconda3\\envs\\IFT6501\\Lib\\wave.py:250\u001B[0m, in \u001B[0;36mWave_read.initfp\u001B[1;34m(self, file)\u001B[0m\n\u001B[0;32m    248\u001B[0m \u001B[38;5;28mself\u001B[39m\u001B[38;5;241m.\u001B[39m_file \u001B[38;5;241m=\u001B[39m _Chunk(file, bigendian \u001B[38;5;241m=\u001B[39m \u001B[38;5;241m0\u001B[39m)\n\u001B[0;32m    249\u001B[0m \u001B[38;5;28;01mif\u001B[39;00m \u001B[38;5;28mself\u001B[39m\u001B[38;5;241m.\u001B[39m_file\u001B[38;5;241m.\u001B[39mgetname() \u001B[38;5;241m!=\u001B[39m \u001B[38;5;124mb\u001B[39m\u001B[38;5;124m'\u001B[39m\u001B[38;5;124mRIFF\u001B[39m\u001B[38;5;124m'\u001B[39m:\n\u001B[1;32m--> 250\u001B[0m     \u001B[38;5;28;01mraise\u001B[39;00m Error(\u001B[38;5;124m'\u001B[39m\u001B[38;5;124mfile does not start with RIFF id\u001B[39m\u001B[38;5;124m'\u001B[39m)\n\u001B[0;32m    251\u001B[0m \u001B[38;5;28;01mif\u001B[39;00m \u001B[38;5;28mself\u001B[39m\u001B[38;5;241m.\u001B[39m_file\u001B[38;5;241m.\u001B[39mread(\u001B[38;5;241m4\u001B[39m) \u001B[38;5;241m!=\u001B[39m \u001B[38;5;124mb\u001B[39m\u001B[38;5;124m'\u001B[39m\u001B[38;5;124mWAVE\u001B[39m\u001B[38;5;124m'\u001B[39m:\n\u001B[0;32m    252\u001B[0m     \u001B[38;5;28;01mraise\u001B[39;00m Error(\u001B[38;5;124m'\u001B[39m\u001B[38;5;124mnot a WAVE file\u001B[39m\u001B[38;5;124m'\u001B[39m)\n",
      "\u001B[1;31mError\u001B[0m: file does not start with RIFF id"
     ]
    }
   ],
   "source": [
    "import wave\n",
    "import csv\n",
    "import os\n",
    "\n",
    "origAudio = wave.open('output.wav', 'rb')  # Change path\n",
    "frameRate = origAudio.getframerate()\n",
    "nChannels = origAudio.getnchannels()\n",
    "sampWidth = origAudio.getsampwidth()\n",
    "nFrames = origAudio.getnframes()\n",
    "\n",
    "filename = 'result1.csv'  # Change path\n",
    "exampleFile = open(filename, 'rb')\n",
    "exampleReader = csv.reader(exampleFile)\n",
    "exampleData = list(exampleReader)\n",
    "count = 0\n",
    "\n",
    "for data in exampleData:\n",
    "    print('Selections ', data[4], data[5])\n",
    "    count += 1\n",
    "    if data[4] == 'startTime' and data[5] == 'endTime':\n",
    "        print('Start time')\n",
    "    else:\n",
    "        start = float(data[4])\n",
    "        end = float(data[5])\n",
    "        origAudio.setpos(int(start * frameRate))\n",
    "        chunkData = origAudio.readframes(int((end - start) * frameRate))\n",
    "\n",
    "        outputFilePath = 'C:/Users/chloe/PycharmProjects/IFT6501_Projet.wav'.format(count)  # Change path\n",
    "        chunkAudio = wave.open(outputFilePath, 'w')\n",
    "        chunkAudio.setnchannels(nChannels)\n",
    "        chunkAudio.setsampwidth(sampWidth)\n",
    "        chunkAudio.setframerate(frameRate)\n",
    "        chunkAudio.writeframes(chunkData)\n",
    "        chunkAudio.close()\n",
    "\n",
    "exampleFile.close()"
   ],
   "metadata": {
    "collapsed": false,
    "ExecuteTime": {
     "end_time": "2023-12-06T21:25:37.556975Z",
     "start_time": "2023-12-06T21:25:37.498273700Z"
    }
   },
   "id": "ac0630943f01ecac"
  },
  {
   "cell_type": "code",
   "execution_count": null,
   "outputs": [],
   "source": [
    "#converting mp3 file to wav \n",
    "# pip install pydub\n",
    "# apt-get install ffmpeg\n",
    "\n",
    "from os import path\n",
    "from pydub import AudioSegment\n",
    "\n",
    "# files                                                                         \n",
    "src = \"transcript.mp3\"\n",
    "dst = \"test.wav\"\n",
    "\n",
    "# convert wav to mp3                                                            \n",
    "sound = AudioSegment.from_mp3(src)\n",
    "sound.export(dst, format=\"wav\")\n",
    "\n",
    "#test to see if this works"
   ],
   "metadata": {
    "collapsed": false
   },
   "id": "8b7a086e794d8002"
  }
 ],
 "metadata": {
  "kernelspec": {
   "display_name": "Python 3",
   "language": "python",
   "name": "python3"
  },
  "language_info": {
   "codemirror_mode": {
    "name": "ipython",
    "version": 2
   },
   "file_extension": ".py",
   "mimetype": "text/x-python",
   "name": "python",
   "nbconvert_exporter": "python",
   "pygments_lexer": "ipython2",
   "version": "2.7.6"
  }
 },
 "nbformat": 4,
 "nbformat_minor": 5
}
