{
 "cells": [
  {
   "cell_type": "code",
   "execution_count": 1,
   "id": "initial_id",
   "metadata": {
    "collapsed": true,
    "ExecuteTime": {
     "end_time": "2023-12-06T03:55:25.891910Z",
     "start_time": "2023-12-06T03:55:25.878033900Z"
    }
   },
   "outputs": [],
   "source": [
    "import wave"
   ]
  },
  {
   "cell_type": "code",
   "execution_count": 2,
   "outputs": [],
   "source": [
    "obj = wave.open(\"test2.wav\", \"rb\")"
   ],
   "metadata": {
    "collapsed": false,
    "ExecuteTime": {
     "end_time": "2023-12-06T04:24:42.166337200Z",
     "start_time": "2023-12-06T04:24:42.162978500Z"
    }
   },
   "id": "d9aa3e0874ff9a89"
  },
  {
   "cell_type": "code",
   "execution_count": 4,
   "outputs": [
    {
     "name": "stdout",
     "output_type": "stream",
     "text": [
      "number of channels 2\n",
      "sample width 2\n",
      "frame rate 48000\n",
      "number of frames 344742\n",
      "parameters _wave_params(nchannels=2, sampwidth=2, framerate=48000, nframes=344742, comptype='NONE', compname='not compressed')\n"
     ]
    }
   ],
   "source": [
    "print(\"number of channels\", obj.getnchannels())\n",
    "print(\"sample width\", obj.getsampwidth())\n",
    "print(\"frame rate\", obj.getframerate())\n",
    "print(\"number of frames\", obj.getnframes())\n",
    "print(\"parameters\", obj.getparams())"
   ],
   "metadata": {
    "collapsed": false,
    "ExecuteTime": {
     "end_time": "2023-12-06T04:27:24.465902900Z",
     "start_time": "2023-12-06T04:27:24.460560800Z"
    }
   },
   "id": "d04b9caf795a5297"
  },
  {
   "cell_type": "code",
   "execution_count": 6,
   "outputs": [
    {
     "name": "stdout",
     "output_type": "stream",
     "text": [
      "7.182125\n",
      "<class 'bytes'> <class 'int'>\n",
      "1378968\n"
     ]
    }
   ],
   "source": [
    "t_audio = obj.getnframes() / obj.getframerate()\n",
    "print(t_audio)\n",
    "frames = obj.readframes(-1)\n",
    "print(type(frames), type(frames[0]))\n",
    "print(len(frames))"
   ],
   "metadata": {
    "collapsed": false,
    "ExecuteTime": {
     "end_time": "2023-12-06T04:29:44.831760200Z",
     "start_time": "2023-12-06T04:29:44.815788200Z"
    }
   },
   "id": "374b19ccacc2601c"
  },
  {
   "cell_type": "code",
   "execution_count": null,
   "outputs": [],
   "source": [],
   "metadata": {
    "collapsed": false
   },
   "id": "54124db2755a13cb"
  }
 ],
 "metadata": {
  "kernelspec": {
   "display_name": "Python 3",
   "language": "python",
   "name": "python3"
  },
  "language_info": {
   "codemirror_mode": {
    "name": "ipython",
    "version": 2
   },
   "file_extension": ".py",
   "mimetype": "text/x-python",
   "name": "python",
   "nbconvert_exporter": "python",
   "pygments_lexer": "ipython2",
   "version": "2.7.6"
  }
 },
 "nbformat": 4,
 "nbformat_minor": 5
}
