{
 "cells": [
  {
   "cell_type": "code",
   "execution_count": 2,
   "id": "initial_id",
   "metadata": {
    "collapsed": true,
    "ExecuteTime": {
     "end_time": "2023-12-06T21:02:39.403968800Z",
     "start_time": "2023-12-06T21:02:39.286988Z"
    }
   },
   "outputs": [],
   "source": []
  },
  {
   "cell_type": "code",
   "execution_count": 7,
   "outputs": [
    {
     "data": {
      "text/plain": "0"
     },
     "execution_count": 7,
     "metadata": {},
     "output_type": "execute_result"
    }
   ],
   "source": [
    "# using the gTTs python library\n",
    "import os\n",
    "from gtts import gTTS\n",
    "\n",
    "text = \"Hello, this is a basic example of Text-to-Speech conversion using gTTS.\"\n",
    "\n",
    "# Output file\n",
    "output_file = \"output.wav\"\n",
    "\n",
    "# Create a gTTS object\n",
    "tts = gTTS(text, lang='en')\n",
    "\n",
    "# Save the generated speech to a file\n",
    "tts.save(output_file)\n",
    "\n",
    "# Play the generated speech\n",
    "os.system(f\"start {output_file}\")\n",
    "\n",
    "#code fonctionne"
   ],
   "metadata": {
    "collapsed": false,
    "ExecuteTime": {
     "end_time": "2023-12-06T21:20:12.486976600Z",
     "start_time": "2023-12-06T21:20:11.219551200Z"
    }
   },
   "id": "dd4e50af1b07187d"
  },
  {
   "cell_type": "code",
   "execution_count": 37,
   "outputs": [],
   "source": [
    "# using the pyttsx3 library \n",
    "# from textbook\n",
    "\n",
    "import pyttsx3\n",
    "\n",
    "# Create a TTS engine\n",
    "engine = pyttsx3.init()\n",
    "\n",
    "# Set properties (optional)\n",
    "engine.setProperty('rate', 165)  # Speed of speech\n",
    "engine.setProperty('volume', 0.4)  # Volume level (0.0 to 1.0)\n",
    "\n",
    "# Input text\n",
    "text = \"Hi my name is Adelleyna Miroft, i love to eat tofu with rice for dinner\"\n",
    "\n",
    "# Step 1-7: Text Analysis, Preprocessing, Linguistic Processing, Prosody, Intonation,\n",
    "# Phonetic Transcription, Acoustic Modeling, and Waveform Generation are handled internally by pyttsx.\n",
    "\n",
    "# Step 8: Synthesis\n",
    "engine.say(text)\n",
    "\n",
    "# Step 9: Voice and Speaker Adaptation - Limited customization with pyttsx.\n",
    "\n",
    "# Step 10: Output\n",
    "engine.runAndWait()\n",
    "\n",
    "#code works "
   ],
   "metadata": {
    "collapsed": false,
    "ExecuteTime": {
     "end_time": "2023-12-08T17:29:07.905053300Z",
     "start_time": "2023-12-08T17:29:02.619436800Z"
    }
   },
   "id": "f6031f88e9038c9a"
  },
  {
   "cell_type": "code",
   "execution_count": 18,
   "outputs": [],
   "source": [
    "# shows all three voice options \n",
    "\n",
    "engine = pyttsx3.init()\n",
    "voices = engine.getProperty('voices')\n",
    "for voice in voices:\n",
    "   engine.setProperty('voice', voice.id)\n",
    "   engine.say('The quick brown fox jumped over the lazy dog.')\n",
    "engine.runAndWait()"
   ],
   "metadata": {
    "collapsed": false,
    "ExecuteTime": {
     "end_time": "2023-12-08T02:52:37.974925500Z",
     "start_time": "2023-12-08T02:52:26.978946300Z"
    }
   },
   "id": "91a667fc02253d32"
  },
  {
   "cell_type": "code",
   "execution_count": 29,
   "outputs": [],
   "source": [
    "#SAPI \n",
    "#from textbook, modified \n",
    "import win32com.client\n",
    "\n",
    "def text_to_speech_sapi(text):\n",
    "    # Create a SAPI COM object\n",
    "    sapi = win32com.client.Dispatch(\"SAPI.SpVoice\")\n",
    "\n",
    "    # Set optional properties\n",
    "    sapi.Rate = 1  # Speed of speech (range: -10 to 10)\n",
    "    sapi.Volume = 50  # Volume level (range: 0 to 100)\n",
    "\n",
    "    # Convert the text to speech\n",
    "    sapi.Speak(text)\n",
    "\n",
    "# Example usage\n",
    "text_to_speech_sapi(\"Hello, this is a test. I hope you enjoy the speech synthesis.\")\n"
   ],
   "metadata": {
    "collapsed": false,
    "ExecuteTime": {
     "end_time": "2023-12-08T16:40:58.413725Z",
     "start_time": "2023-12-08T16:40:53.457384Z"
    }
   },
   "id": "b2c4b57fd2dea0e2"
  },
  {
   "cell_type": "code",
   "execution_count": 30,
   "outputs": [],
   "source": [
    "#SAPI \n",
    "#code directly from textbook\n",
    "from win32com.client import constants, Dispatch\n",
    "Msg = \"Hi this is a test\"\n",
    "speaker = Dispatch(\"SAPI.SpVoice\") #Create SAPI SpVoice Object\n",
    "speaker.Speak(Msg) #Process TTS\n",
    "del speaker"
   ],
   "metadata": {
    "collapsed": false,
    "ExecuteTime": {
     "end_time": "2023-12-08T16:42:14.518818100Z",
     "start_time": "2023-12-08T16:42:12.431711700Z"
    }
   },
   "id": "6e80ab7c5623ca57"
  },
  {
   "cell_type": "code",
   "execution_count": 34,
   "outputs": [
    {
     "data": {
      "text/plain": "0"
     },
     "execution_count": 34,
     "metadata": {},
     "output_type": "execute_result"
    }
   ],
   "source": [
    "#SpeechLib\n",
    "#textbook \n",
    "\n",
    "from comtypes.client import CreateObject\n",
    "engine = CreateObject(\"SAPI.SpVoice\")\n",
    "\n",
    "stream = CreateObject(\"SAPI.SpFileStream\")\n",
    "from comtypes.gen import SpeechLib\n",
    "infile = \"SHIVA.txt\"\n",
    "outfile = \"SHIVA-audio.wav\"\n",
    "stream.Open(outfile, SpeechLib.SSFMCreateForWrite)\n",
    "engine.AudioOutputStream = stream\n",
    "f = open(infile, 'r')\n",
    "theText = f.read()\n",
    "f.close()\n",
    "engine.speak(theText)\n",
    "stream.Close()\n"
   ],
   "metadata": {
    "collapsed": false,
    "ExecuteTime": {
     "end_time": "2023-12-08T17:06:28.923190500Z",
     "start_time": "2023-12-08T17:06:28.827376600Z"
    }
   },
   "id": "d6cc7587606c5a6a"
  },
  {
   "cell_type": "code",
   "execution_count": 35,
   "outputs": [
    {
     "ename": "FileNotFoundError",
     "evalue": "[Errno 2] No such file or directory: 'Howard.wav'",
     "output_type": "error",
     "traceback": [
      "\u001B[1;31m---------------------------------------------------------------------------\u001B[0m",
      "\u001B[1;31mFileNotFoundError\u001B[0m                         Traceback (most recent call last)",
      "Cell \u001B[1;32mIn[35], line 7\u001B[0m\n\u001B[0;32m      4\u001B[0m \u001B[38;5;28;01mimport\u001B[39;00m \u001B[38;5;21;01mwave\u001B[39;00m\n\u001B[0;32m      5\u001B[0m \u001B[38;5;28;01mimport\u001B[39;00m \u001B[38;5;21;01mcsv\u001B[39;00m\n\u001B[1;32m----> 7\u001B[0m origAudio \u001B[38;5;241m=\u001B[39m wave\u001B[38;5;241m.\u001B[39mopen(\u001B[38;5;124m'\u001B[39m\u001B[38;5;124mHoward.wav\u001B[39m\u001B[38;5;124m'\u001B[39m, \u001B[38;5;124m'\u001B[39m\u001B[38;5;124mr\u001B[39m\u001B[38;5;124m'\u001B[39m)  \u001B[38;5;66;03m# Change path\u001B[39;00m\n\u001B[0;32m      8\u001B[0m frameRate \u001B[38;5;241m=\u001B[39m origAudio\u001B[38;5;241m.\u001B[39mgetframerate()\n\u001B[0;32m      9\u001B[0m nChannels \u001B[38;5;241m=\u001B[39m origAudio\u001B[38;5;241m.\u001B[39mgetnchannels()\n",
      "File \u001B[1;32m~\\anaconda3\\envs\\IFT\\Lib\\wave.py:631\u001B[0m, in \u001B[0;36mopen\u001B[1;34m(f, mode)\u001B[0m\n\u001B[0;32m    629\u001B[0m         mode \u001B[38;5;241m=\u001B[39m \u001B[38;5;124m'\u001B[39m\u001B[38;5;124mrb\u001B[39m\u001B[38;5;124m'\u001B[39m\n\u001B[0;32m    630\u001B[0m \u001B[38;5;28;01mif\u001B[39;00m mode \u001B[38;5;129;01min\u001B[39;00m (\u001B[38;5;124m'\u001B[39m\u001B[38;5;124mr\u001B[39m\u001B[38;5;124m'\u001B[39m, \u001B[38;5;124m'\u001B[39m\u001B[38;5;124mrb\u001B[39m\u001B[38;5;124m'\u001B[39m):\n\u001B[1;32m--> 631\u001B[0m     \u001B[38;5;28;01mreturn\u001B[39;00m Wave_read(f)\n\u001B[0;32m    632\u001B[0m \u001B[38;5;28;01melif\u001B[39;00m mode \u001B[38;5;129;01min\u001B[39;00m (\u001B[38;5;124m'\u001B[39m\u001B[38;5;124mw\u001B[39m\u001B[38;5;124m'\u001B[39m, \u001B[38;5;124m'\u001B[39m\u001B[38;5;124mwb\u001B[39m\u001B[38;5;124m'\u001B[39m):\n\u001B[0;32m    633\u001B[0m     \u001B[38;5;28;01mreturn\u001B[39;00m Wave_write(f)\n",
      "File \u001B[1;32m~\\anaconda3\\envs\\IFT\\Lib\\wave.py:279\u001B[0m, in \u001B[0;36mWave_read.__init__\u001B[1;34m(self, f)\u001B[0m\n\u001B[0;32m    277\u001B[0m \u001B[38;5;28mself\u001B[39m\u001B[38;5;241m.\u001B[39m_i_opened_the_file \u001B[38;5;241m=\u001B[39m \u001B[38;5;28;01mNone\u001B[39;00m\n\u001B[0;32m    278\u001B[0m \u001B[38;5;28;01mif\u001B[39;00m \u001B[38;5;28misinstance\u001B[39m(f, \u001B[38;5;28mstr\u001B[39m):\n\u001B[1;32m--> 279\u001B[0m     f \u001B[38;5;241m=\u001B[39m builtins\u001B[38;5;241m.\u001B[39mopen(f, \u001B[38;5;124m'\u001B[39m\u001B[38;5;124mrb\u001B[39m\u001B[38;5;124m'\u001B[39m)\n\u001B[0;32m    280\u001B[0m     \u001B[38;5;28mself\u001B[39m\u001B[38;5;241m.\u001B[39m_i_opened_the_file \u001B[38;5;241m=\u001B[39m f\n\u001B[0;32m    281\u001B[0m \u001B[38;5;66;03m# else, assume it is an open file object already\u001B[39;00m\n",
      "\u001B[1;31mFileNotFoundError\u001B[0m: [Errno 2] No such file or directory: 'Howard.wav'"
     ]
    }
   ],
   "source": [
    "#Audio cutting Code using wave\n",
    "#would need to create the files requiered to run it \n",
    "\n",
    "import wave\n",
    "import csv\n",
    "\n",
    "origAudio = wave.open('Howard.wav', 'r')  # Change path\n",
    "frameRate = origAudio.getframerate()\n",
    "nChannels = origAudio.getnchannels()\n",
    "sampWidth = origAudio.getsampwidth()\n",
    "nFrames = origAudio.getnframes()\n",
    "\n",
    "filename = 'result1.csv'  # Change path\n",
    "\n",
    "exampleFile = open(filename)\n",
    "exampleReader = csv.reader(exampleFile)\n",
    "exampleData = list(exampleReader)\n",
    "\n",
    "count = 0\n",
    "for data in exampleData:\n",
    "    # for selections in data:\n",
    "    print('Selections ', data[4], data[5])\n",
    "    count += 1\n",
    "    if data[4] == 'startTime' and data[5] == 'endTime':\n",
    "        print('Start time')\n",
    "    else:\n",
    "        start = float(data[4])\n",
    "        end = float(data[5])\n",
    "        origAudio.setpos(int(start * frameRate))\n",
    "        chunkData = origAudio.readframes(int((end - start) * frameRate))  # Fix typo here\n",
    "        outputFilePath = 'C:/Users/Navin/outputFile{0}.wav'.format(count)  # Change path\n",
    "        chunkAudio = wave.open(outputFilePath, 'w')\n",
    "        chunkAudio.setnchannels(nChannels)\n",
    "        chunkAudio.setsampwidth(sampWidth)\n",
    "        chunkAudio.setframerate(frameRate)\n",
    "        chunkAudio.writeframes(chunkData)\n",
    "        chunkAudio.close()\n",
    "\n",
    "origAudio.close()\n"
   ],
   "metadata": {
    "collapsed": false,
    "ExecuteTime": {
     "end_time": "2023-12-08T17:15:34.599757100Z",
     "start_time": "2023-12-08T17:15:34.417680200Z"
    }
   },
   "id": "3fef315ebf419478"
  },
  {
   "cell_type": "code",
   "execution_count": 37,
   "outputs": [
    {
     "ename": "ValueError",
     "evalue": "cannot construct SpeechConfig with the given arguments",
     "output_type": "error",
     "traceback": [
      "\u001B[1;31m---------------------------------------------------------------------------\u001B[0m",
      "\u001B[1;31mValueError\u001B[0m                                Traceback (most recent call last)",
      "Cell \u001B[1;32mIn[37], line 7\u001B[0m\n\u001B[0;32m      5\u001B[0m \u001B[38;5;28;01mfrom\u001B[39;00m \u001B[38;5;21;01mazure\u001B[39;00m\u001B[38;5;21;01m.\u001B[39;00m\u001B[38;5;21;01mcognitiveservices\u001B[39;00m\u001B[38;5;21;01m.\u001B[39;00m\u001B[38;5;21;01mspeech\u001B[39;00m \u001B[38;5;28;01mimport\u001B[39;00m SpeechConfig, SpeechSynthesizer, ResultReason\n\u001B[0;32m      6\u001B[0m \u001B[38;5;66;03m# This example requires environment variables named \"SPEECH_KEY\" and \"SPEECH_REGION\"\u001B[39;00m\n\u001B[1;32m----> 7\u001B[0m speech_config \u001B[38;5;241m=\u001B[39m speechsdk\u001B[38;5;241m.\u001B[39mSpeechConfig(subscription\u001B[38;5;241m=\u001B[39mos\u001B[38;5;241m.\u001B[39menviron\u001B[38;5;241m.\u001B[39mget(\u001B[38;5;124m'\u001B[39m\u001B[38;5;124m'\u001B[39m), region\u001B[38;5;241m=\u001B[39mos\u001B[38;5;241m.\u001B[39menviron\u001B[38;5;241m.\u001B[39mget(\u001B[38;5;124m'\u001B[39m\u001B[38;5;124m'\u001B[39m))\n\u001B[0;32m      8\u001B[0m audio_config \u001B[38;5;241m=\u001B[39m speechsdk\u001B[38;5;241m.\u001B[39maudio\u001B[38;5;241m.\u001B[39mAudioOutputConfig(use_default_speaker\u001B[38;5;241m=\u001B[39m\u001B[38;5;28;01mTrue\u001B[39;00m)\n\u001B[0;32m     10\u001B[0m \u001B[38;5;66;03m# The language of the voice that speaks.\u001B[39;00m\n",
      "File \u001B[1;32m~\\anaconda3\\envs\\IFT\\Lib\\site-packages\\azure\\cognitiveservices\\speech\\speech.py:84\u001B[0m, in \u001B[0;36mSpeechConfig.__init__\u001B[1;34m(self, subscription, region, endpoint, host, auth_token, speech_recognition_language)\u001B[0m\n\u001B[0;32m     82\u001B[0m     _call_hr_fn(fn\u001B[38;5;241m=\u001B[39m_sdk_lib\u001B[38;5;241m.\u001B[39mspeech_config_from_host, \u001B[38;5;241m*\u001B[39m[ctypes\u001B[38;5;241m.\u001B[39mbyref(handle), c_host, c_subscription])\n\u001B[0;32m     83\u001B[0m \u001B[38;5;28;01melse\u001B[39;00m:\n\u001B[1;32m---> 84\u001B[0m     \u001B[38;5;28;01mraise\u001B[39;00m \u001B[38;5;167;01mValueError\u001B[39;00m(generic_error_message)\n\u001B[0;32m     85\u001B[0m \u001B[38;5;28mself\u001B[39m\u001B[38;5;241m.\u001B[39m__handle \u001B[38;5;241m=\u001B[39m _Handle(handle, _sdk_lib\u001B[38;5;241m.\u001B[39mspeech_config_is_handle_valid, _sdk_lib\u001B[38;5;241m.\u001B[39mspeech_config_release)\n\u001B[0;32m     86\u001B[0m prop_handle \u001B[38;5;241m=\u001B[39m _spx_handle(\u001B[38;5;241m0\u001B[39m)\n",
      "\u001B[1;31mValueError\u001B[0m: cannot construct SpeechConfig with the given arguments"
     ]
    }
   ],
   "source": [
    "#Microsoft Azure \n",
    "\n",
    "import os\n",
    "import azure.cognitiveservices.speech as speechsdk\n",
    "from azure.cognitiveservices.speech import SpeechConfig, SpeechSynthesizer, ResultReason\n",
    "# This example requires environment variables named \"SPEECH_KEY\" and \"SPEECH_REGION\"\n",
    "speech_config = speechsdk.SpeechConfig(subscription=os.environ.get(''), region=os.environ.get(''))\n",
    "audio_config = speechsdk.audio.AudioOutputConfig(use_default_speaker=True)\n",
    "\n",
    "# The language of the voice that speaks.\n",
    "speech_config.speech_synthesis_voice_name='en-US-JennyNeural'\n",
    "\n",
    "speech_synthesizer = speechsdk.SpeechSynthesizer(speech_config=speech_config, audio_config=audio_config)\n",
    "\n",
    "# Get text from the console and synthesize to the default speaker.\n",
    "print(\"Write something to say >\")\n",
    "text = input()\n",
    "\n",
    "speech_synthesis_result = speech_synthesizer.speak_text_async(text).get()\n",
    "\n",
    "if speech_synthesis_result.reason == speechsdk.ResultReason.SynthesizingAudioCompleted:\n",
    "    print(\"Speech synthesized for text [{}]\".format(text))\n",
    "elif speech_synthesis_result.reason == speechsdk.ResultReason.Canceled:\n",
    "    cancellation_details = speech_synthesis_result.cancellation_details\n",
    "    print(\"Speech synthesis canceled: {}\".format(cancellation_details.reason))\n",
    "    if cancellation_details.reason == speechsdk.CancellationReason.Error:\n",
    "        if cancellation_details.error_details:\n",
    "            print(\"Error details: {}\".format(cancellation_details.error_details))\n",
    "            print(\"Did you set the speech resource key and region values?\")\n"
   ],
   "metadata": {
    "collapsed": false,
    "ExecuteTime": {
     "end_time": "2023-12-08T19:16:23.147566600Z",
     "start_time": "2023-12-08T19:16:23.114456600Z"
    }
   },
   "id": "850001ab5674413e"
  },
  {
   "cell_type": "code",
   "execution_count": 36,
   "outputs": [],
   "source": [
    "#microsoft azure that works \n",
    "import os\n",
    "from azure.cognitiveservices.speech import SpeechConfig, SpeechSynthesizer, ResultReason\n",
    "\n",
    "def text_to_speech_azure(text):\n",
    "    # Replace with your own subscription key and service region\n",
    "    subscription_key = ''\n",
    "    region = ''\n",
    "    \n",
    "    # Set up the SpeechConfig\n",
    "    speech_config = SpeechConfig(subscription=subscription_key, region=region)\n",
    "    speech_config.speech_synthesis_voice_name='de-DE-ConradNeural'\n",
    "    #fav voices : \n",
    "    #en-AU-FreyaNeural, en-AU-NatashaNeural, en-AU-CarlyNeural, en-IN-PrabhatNeural, fr-FR-CoralieNeural, ja-JP-NanamiNeural\n",
    "    # Create a SpeechSynthesizer\n",
    "    synthesizer = SpeechSynthesizer(speech_config=speech_config)\n",
    "\n",
    "    # Synthesize the text\n",
    "    result = synthesizer.speak_text_async(text).get()\n",
    "\n",
    "    # Save the audio to a file\n",
    "    if result.reason == ResultReason.SynthesizingAudioCompleted:\n",
    "        audio_data = result.audio_data\n",
    "        with open(\"mochi.wav\", \"wb\") as audio_file:\n",
    "            audio_file.write(audio_data)\n",
    "\n",
    "# Example usage\n",
    "text_to_speech_azure(\"Hi my name is Addelena Tumblebird. My favorite food are mochis. I love playing video games, like CS-go 2, valorant and subnautica\")"
   ],
   "metadata": {
    "collapsed": false,
    "ExecuteTime": {
     "end_time": "2023-12-08T19:02:37.246940700Z",
     "start_time": "2023-12-08T19:02:26.132913300Z"
    }
   },
   "id": "5793ede9b7973cdf"
  },
  {
   "cell_type": "code",
   "execution_count": 24,
   "outputs": [
    {
     "ename": "FileNotFoundError",
     "evalue": "[Errno 2] No such file or directory: 'result1.csv'",
     "output_type": "error",
     "traceback": [
      "\u001B[1;31m---------------------------------------------------------------------------\u001B[0m",
      "\u001B[1;31mFileNotFoundError\u001B[0m                         Traceback (most recent call last)",
      "Cell \u001B[1;32mIn[24], line 12\u001B[0m\n\u001B[0;32m      9\u001B[0m nFrames \u001B[38;5;241m=\u001B[39m origAudio\u001B[38;5;241m.\u001B[39mgetnframes()\n\u001B[0;32m     11\u001B[0m filename \u001B[38;5;241m=\u001B[39m \u001B[38;5;124m'\u001B[39m\u001B[38;5;124mresult1.csv\u001B[39m\u001B[38;5;124m'\u001B[39m  \u001B[38;5;66;03m# Change path\u001B[39;00m\n\u001B[1;32m---> 12\u001B[0m exampleFile \u001B[38;5;241m=\u001B[39m \u001B[38;5;28mopen\u001B[39m(filename, \u001B[38;5;124m'\u001B[39m\u001B[38;5;124mrb\u001B[39m\u001B[38;5;124m'\u001B[39m)\n\u001B[0;32m     13\u001B[0m exampleReader \u001B[38;5;241m=\u001B[39m csv\u001B[38;5;241m.\u001B[39mreader(exampleFile)\n\u001B[0;32m     14\u001B[0m exampleData \u001B[38;5;241m=\u001B[39m \u001B[38;5;28mlist\u001B[39m(exampleReader)\n",
      "File \u001B[1;32m~\\anaconda3\\envs\\IFT\\Lib\\site-packages\\IPython\\core\\interactiveshell.py:286\u001B[0m, in \u001B[0;36m_modified_open\u001B[1;34m(file, *args, **kwargs)\u001B[0m\n\u001B[0;32m    279\u001B[0m \u001B[38;5;28;01mif\u001B[39;00m file \u001B[38;5;129;01min\u001B[39;00m {\u001B[38;5;241m0\u001B[39m, \u001B[38;5;241m1\u001B[39m, \u001B[38;5;241m2\u001B[39m}:\n\u001B[0;32m    280\u001B[0m     \u001B[38;5;28;01mraise\u001B[39;00m \u001B[38;5;167;01mValueError\u001B[39;00m(\n\u001B[0;32m    281\u001B[0m         \u001B[38;5;124mf\u001B[39m\u001B[38;5;124m\"\u001B[39m\u001B[38;5;124mIPython won\u001B[39m\u001B[38;5;124m'\u001B[39m\u001B[38;5;124mt let you open fd=\u001B[39m\u001B[38;5;132;01m{\u001B[39;00mfile\u001B[38;5;132;01m}\u001B[39;00m\u001B[38;5;124m by default \u001B[39m\u001B[38;5;124m\"\u001B[39m\n\u001B[0;32m    282\u001B[0m         \u001B[38;5;124m\"\u001B[39m\u001B[38;5;124mas it is likely to crash IPython. If you know what you are doing, \u001B[39m\u001B[38;5;124m\"\u001B[39m\n\u001B[0;32m    283\u001B[0m         \u001B[38;5;124m\"\u001B[39m\u001B[38;5;124myou can use builtins\u001B[39m\u001B[38;5;124m'\u001B[39m\u001B[38;5;124m open.\u001B[39m\u001B[38;5;124m\"\u001B[39m\n\u001B[0;32m    284\u001B[0m     )\n\u001B[1;32m--> 286\u001B[0m \u001B[38;5;28;01mreturn\u001B[39;00m io_open(file, \u001B[38;5;241m*\u001B[39margs, \u001B[38;5;241m*\u001B[39m\u001B[38;5;241m*\u001B[39mkwargs)\n",
      "\u001B[1;31mFileNotFoundError\u001B[0m: [Errno 2] No such file or directory: 'result1.csv'"
     ]
    }
   ],
   "source": [
    "import wave\n",
    "import csv\n",
    "import os\n",
    "\n",
    "origAudio = wave.open('output.wav', 'rb')  # Change path\n",
    "frameRate = origAudio.getframerate()\n",
    "nChannels = origAudio.getnchannels()\n",
    "sampWidth = origAudio.getsampwidth()\n",
    "nFrames = origAudio.getnframes()\n",
    "\n",
    "filename = 'result1.csv'  # Change path\n",
    "exampleFile = open(filename, 'rb')\n",
    "exampleReader = csv.reader(exampleFile)\n",
    "exampleData = list(exampleReader)\n",
    "count = 0\n",
    "\n",
    "for data in exampleData:\n",
    "    print('Selections ', data[4], data[5])\n",
    "    count += 1\n",
    "    if data[4] == 'startTime' and data[5] == 'endTime':\n",
    "        print('Start time')\n",
    "    else:\n",
    "        start = float(data[4])\n",
    "        end = float(data[5])\n",
    "        origAudio.setpos(int(start * frameRate))\n",
    "        chunkData = origAudio.readframes(int((end - start) * frameRate))\n",
    "\n",
    "        outputFilePath = 'C:/Users/chloe/PycharmProjects/IFT6501_Projet/testes.wav'.format(count)  # Change path\n",
    "        chunkAudio = wave.open(outputFilePath, 'w')\n",
    "        chunkAudio.setnchannels(nChannels)\n",
    "        chunkAudio.setsampwidth(sampWidth)\n",
    "        chunkAudio.setframerate(frameRate)\n",
    "        chunkAudio.writeframes(chunkData)\n",
    "        chunkAudio.close()\n",
    "\n",
    "exampleFile.close()"
   ],
   "metadata": {
    "collapsed": false,
    "ExecuteTime": {
     "end_time": "2023-12-08T16:36:12.063323700Z",
     "start_time": "2023-12-08T16:36:11.941790700Z"
    }
   },
   "id": "ac0630943f01ecac"
  },
  {
   "cell_type": "code",
   "execution_count": null,
   "outputs": [],
   "source": [
    "#converting mp3 file to wav \n",
    "# pip install pydub\n",
    "# apt-get install ffmpeg\n",
    "\n",
    "from os import path\n",
    "from pydub import AudioSegment\n",
    "\n",
    "# files                                                                         \n",
    "src = \"transcript.mp3\"\n",
    "dst = \"test.wav\"\n",
    "\n",
    "# convert wav to mp3                                                            \n",
    "sound = AudioSegment.from_mp3(src)\n",
    "sound.export(dst, format=\"wav\")\n",
    "\n",
    "#test to see if this works"
   ],
   "metadata": {
    "collapsed": false
   },
   "id": "8b7a086e794d8002"
  }
 ],
 "metadata": {
  "kernelspec": {
   "display_name": "Python 3",
   "language": "python",
   "name": "python3"
  },
  "language_info": {
   "codemirror_mode": {
    "name": "ipython",
    "version": 2
   },
   "file_extension": ".py",
   "mimetype": "text/x-python",
   "name": "python",
   "nbconvert_exporter": "python",
   "pygments_lexer": "ipython2",
   "version": "2.7.6"
  }
 },
 "nbformat": 4,
 "nbformat_minor": 5
}
